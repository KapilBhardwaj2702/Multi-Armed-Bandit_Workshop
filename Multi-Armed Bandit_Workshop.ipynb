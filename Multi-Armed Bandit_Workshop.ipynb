{
 "cells": [
  {
   "cell_type": "markdown",
   "id": "11ffa003",
   "metadata": {},
   "source": [
    "# Name- Kapil Bhardwaj\n",
    "\n",
    "\n",
    "# 🎰 The Casino Challenge — Multi‑Armed Bandits & ε‑Greedy (Gamified Workshop)\n",
    "\n",
    "**Goal:** Compete to maximize reward while learning the exploration–exploitation trade‑off using **ε‑greedy** policies.\n",
    "\n",
    "**You will:**\n",
    "- Implement and *play* with ε‑greedy on a fixed set of bandit arms (Round 1: Stationary).\n",
    "- Compete on a leaderboard (submit your score locally).\n",
    "- Reflect on how exploration affects performance.\n",
    "- Face a twist (Round 2: **Non‑Stationary** bandits) and adapt your strategy.\n"
   ]
  },
  {
   "cell_type": "markdown",
   "id": "1f55f77a",
   "metadata": {},
   "source": [
    "\n",
    "## 🔧 Setup\n",
    "\n",
    "Run the cell below. If you're on Colab/Jupyter, required libraries should already be available.\n"
   ]
  },
  {
   "cell_type": "code",
   "execution_count": 14,
   "id": "80cb9b48",
   "metadata": {},
   "outputs": [
    {
     "name": "stdout",
     "output_type": "stream",
     "text": [
      "Numpy: 1.26.3\n",
      "Matplotlib: 3.10.3\n"
     ]
    }
   ],
   "source": [
    "\n",
    "import numpy as np\n",
    "import matplotlib.pyplot as plt\n",
    "import time\n",
    "from pathlib import Path\n",
    "from datetime import datetime\n",
    "\n",
    "plt.rcParams['figure.figsize'] = (8, 4)\n",
    "\n",
    "print(\"Numpy:\", np.__version__)\n",
    "print(\"Matplotlib:\", plt.matplotlib.__version__)\n"
   ]
  },
  {
   "cell_type": "code",
   "execution_count": 15,
   "id": "c3180810",
   "metadata": {},
   "outputs": [],
   "source": [
    "\n",
    "def plot_cumulative(rewards, title=\"Cumulative Reward\"):\n",
    "    plt.figure()\n",
    "    plt.plot(np.cumsum(rewards))\n",
    "    plt.title(title)\n",
    "    plt.xlabel(\"Step\")\n",
    "    plt.ylabel(\"Cumulative Reward\")\n",
    "    plt.show()\n"
   ]
  },
  {
   "cell_type": "markdown",
   "id": "b2279be5",
   "metadata": {},
   "source": [
    "\n",
    "## 🎲 Environment: Stationary Bernoulli Bandits\n",
    "\n",
    "Ten arms, each with a hidden probability of reward. You won't see the true means during play, but we print them here for **instructor debugging/analysis**. You may comment this out during the competition.\n"
   ]
  },
  {
   "cell_type": "code",
   "execution_count": 16,
   "id": "1a0dc58d",
   "metadata": {},
   "outputs": [
    {
     "name": "stdout",
     "output_type": "stream",
     "text": [
      "DEBUG — True means (hidden in competition): [0.774 0.439 0.859 0.697 0.094 0.976 0.761 0.786 0.128 0.45 ]\n"
     ]
    }
   ],
   "source": [
    "\n",
    "def make_stationary_bandit(n_arms=10, seed=42):\n",
    "    rng = np.random.default_rng(seed)\n",
    "    true_means = rng.random(n_arms)  # in [0,1)\n",
    "    return true_means\n",
    "\n",
    "# Instructor may reveal (comment out in live competition to keep secret)\n",
    "SEED_ENV = 42  # 🔒 Keep this fixed across all students for fairness (Round 1)\n",
    "TRUE_MEANS = make_stationary_bandit(seed=SEED_ENV)\n",
    "print(\"DEBUG — True means (hidden in competition):\", np.round(TRUE_MEANS, 3))\n"
   ]
  },
  {
   "cell_type": "markdown",
   "id": "75a55286",
   "metadata": {},
   "source": [
    "\n",
    "## 🤖 Agent: ε‑Greedy (Fixed or Decaying)\n",
    "\n",
    "- With probability **ε**, explore a random arm.\n",
    "- Otherwise, exploit the best arm found so far (highest estimated value).\n",
    "- Estimates updated via **incremental sample average**.\n"
   ]
  },
  {
   "cell_type": "code",
   "execution_count": 17,
   "id": "54bf7b0e",
   "metadata": {},
   "outputs": [],
   "source": [
    "\n",
    "def epsilon_greedy(true_means, steps=1000, epsilon=0.1, seed=None):\n",
    "    rng = np.random.default_rng(seed)\n",
    "    n_arms = len(true_means)\n",
    "    Q = np.zeros(n_arms)     # value estimates\n",
    "    N = np.zeros(n_arms)     # counts\n",
    "    rewards = np.zeros(steps, dtype=float)\n",
    "    actions = np.zeros(steps, dtype=int)\n",
    "    for t in range(steps):\n",
    "        if rng.random() < epsilon:\n",
    "            a = rng.integers(0, n_arms)\n",
    "        else:\n",
    "            a = int(np.argmax(Q))\n",
    "        r = 1.0 if rng.random() < true_means[a] else 0.0\n",
    "        N[a] += 1\n",
    "        Q[a] += (r - Q[a]) / N[a]  # incremental mean\n",
    "        rewards[t] = r\n",
    "        actions[t] = a\n",
    "    return rewards, actions, Q, N\n",
    "\n",
    "def epsilon_greedy_decaying(true_means, steps=1000, eps_start=0.5, eps_end=0.05, seed=None):\n",
    "    rng = np.random.default_rng(seed)\n",
    "    n_arms = len(true_means)\n",
    "    Q = np.zeros(n_arms)\n",
    "    N = np.zeros(n_arms)\n",
    "    rewards = np.zeros(steps, dtype=float)\n",
    "    actions = np.zeros(steps, dtype=int)\n",
    "    for t in range(steps):\n",
    "        # Linear decay\n",
    "        epsilon = eps_end + (eps_start - eps_end) * max(0, (steps - 1 - t)) / max(1, steps - 1)\n",
    "        if rng.random() < epsilon:\n",
    "            a = rng.integers(0, n_arms)\n",
    "        else:\n",
    "            a = int(np.argmax(Q))\n",
    "        r = 1.0 if rng.random() < true_means[a] else 0.0\n",
    "        N[a] += 1\n",
    "        Q[a] += (r - Q[a]) / N[a]\n",
    "        rewards[t] = r\n",
    "        actions[t] = a\n",
    "    return rewards, actions, Q, N\n"
   ]
  },
  {
   "cell_type": "markdown",
   "id": "8564998b",
   "metadata": {},
   "source": [
    "\n",
    "# 🏁 Round 1 — Stationary Casino (Competition)\n",
    "\n",
    "**Instructions**\n",
    "1. Set your **NAME** and **STRATEGY**.\n",
    "2. Choose **steps** and **ε** (or decaying ε parameters).\n",
    "3. Run the simulation cell.\n",
    "4. Submit to the local leaderboard (next cell).\n",
    "\n",
    "> Everyone must use the same **SEED_ENV** to ensure the environment is identical. You can set your **agent seed** for reproducibility.\n"
   ]
  },
  {
   "cell_type": "code",
   "execution_count": 18,
   "id": "5a5f1da6",
   "metadata": {},
   "outputs": [
    {
     "name": "stdout",
     "output_type": "stream",
     "text": [
      "\n",
      "Player: Kapil Bhardwaj\n",
      "Strategy: epsilon_greedy (fixed_eps=0.1)\n",
      "Steps: 2000\n",
      "Total Reward: 1862\n",
      "Estimated Best Arm: 5\n",
      "Estimated Q: [0.729 0.52  0.923 0.75  0.095 0.973 0.783 0.857 0.19  0.143]\n",
      "Counts N: [  48   25   26   24   21 1770   23   28   21   14]\n",
      "\n"
     ]
    },
    {
     "data": {
      "image/png": "[encoded data removed]",
      "text/plain": [
       "<Figure size 800x400 with 1 Axes>"
      ]
     },
     "metadata": {},
     "output_type": "display_data"
    }
   ],
   "source": [
    "\n",
    "# === YOUR SETTINGS (edit) ===\n",
    "NAME = \"Kapil Bhardwaj\"\n",
    "STRATEGY = \"epsilon_greedy\"  # options: \"epsilon_greedy\" or \"epsilon_greedy_decaying\"\n",
    "STEPS = 2000\n",
    "\n",
    "# For fixed ε\n",
    "EPSILON = 0.1\n",
    "\n",
    "# For decaying ε\n",
    "EPS_START = 0.5\n",
    "EPS_END = 0.05\n",
    "\n",
    "# Agent RNG seed (can be None for randomness)\n",
    "SEED_AGENT = 123\n",
    "\n",
    "# === RUN ===\n",
    "if STRATEGY == \"epsilon_greedy\":\n",
    "    rewards, actions, Q, N = epsilon_greedy(TRUE_MEANS, steps=STEPS, epsilon=EPSILON, seed=SEED_AGENT)\n",
    "    strat_desc = f\"fixed_eps={EPSILON}\"\n",
    "elif STRATEGY == \"epsilon_greedy_decaying\":\n",
    "    rewards, actions, Q, N = epsilon_greedy_decaying(TRUE_MEANS, steps=STEPS, eps_start=EPS_START, eps_end=EPS_END, seed=SEED_AGENT)\n",
    "    strat_desc = f\"decay_eps={EPS_START}->{EPS_END}\"\n",
    "else:\n",
    "    raise ValueError(\"Unknown STRATEGY setting\")\n",
    "\n",
    "total = float(np.sum(rewards))\n",
    "best_arm_est = int(np.argmax(Q))\n",
    "print(f\"\"\"\n",
    "Player: {NAME}\n",
    "Strategy: {STRATEGY} ({strat_desc})\n",
    "Steps: {STEPS}\n",
    "Total Reward: {total:.0f}\n",
    "Estimated Best Arm: {best_arm_est}\n",
    "Estimated Q: {np.round(Q,3)}\n",
    "Counts N: {N.astype(int)}\n",
    "\"\"\")\n",
    "plot_cumulative(rewards, title=f\"Round 1 — Cumulative Reward ({STRATEGY})\")\n"
   ]
  },
  {
   "cell_type": "markdown",
   "id": "a4475ab9",
   "metadata": {},
   "source": [
    "\n",
    "### 🧮 Submit to Leaderboard (Round 1)\n",
    "\n",
    "This writes your result to a local CSV (`submissions_round1.csv`) in the current folder.  \n",
    "The instructor can collect these files or run the next cell to view a local leaderboard.\n"
   ]
  },
  {
   "cell_type": "code",
   "execution_count": 19,
   "id": "8e3e3fc2",
   "metadata": {},
   "outputs": [
    {
     "name": "stdout",
     "output_type": "stream",
     "text": [
      "Submitted to D:\\Conestoga college\\Sem 2\\04 Friday - CSCN8020 Reinforcement learning\\week 9\\MultiArmedBanditWorkshop---Week9\\submissions_round1.csv\n"
     ]
    },
    {
     "name": "stderr",
     "output_type": "stream",
     "text": [
      "C:\\Users\\acer\\AppData\\Local\\Temp\\ipykernel_2420\\2191877043.py:7: DeprecationWarning: datetime.datetime.utcnow() is deprecated and scheduled for removal in a future version. Use timezone-aware objects to represent datetimes in UTC: datetime.datetime.now(datetime.UTC).\n",
      "  \"timestamp\": datetime.utcnow().isoformat(),\n"
     ]
    }
   ],
   "source": [
    "\n",
    "import csv\n",
    "\n",
    "lb_path = Path(\"submissions_round1.csv\")\n",
    "lb_exists = lb_path.exists()\n",
    "\n",
    "row = {\n",
    "    \"timestamp\": datetime.utcnow().isoformat(),\n",
    "    \"name\": NAME,\n",
    "    \"strategy\": STRATEGY,\n",
    "    \"details\": strat_desc,\n",
    "    \"steps\": STEPS,\n",
    "    \"seed_env\": SEED_ENV,\n",
    "    \"seed_agent\": SEED_AGENT,\n",
    "    \"total_reward\": int(np.sum(rewards))\n",
    "}\n",
    "\n",
    "fieldnames = [\"timestamp\",\"name\",\"strategy\",\"details\",\"steps\",\"seed_env\",\"seed_agent\",\"total_reward\"]\n",
    "\n",
    "with open(lb_path, \"a\", newline=\"\") as f:\n",
    "    writer = csv.DictWriter(f, fieldnames=fieldnames)\n",
    "    if not lb_exists:\n",
    "        writer.writeheader()\n",
    "    writer.writerow(row)\n",
    "\n",
    "print(\"Submitted to\", lb_path.resolve())\n"
   ]
  },
  {
   "cell_type": "code",
   "execution_count": 20,
   "id": "468ee5f4",
   "metadata": {},
   "outputs": [
    {
     "name": "stdout",
     "output_type": "stream",
     "text": [
      "🏆 Round 1 Leaderboard (sorted by total reward):\n"
     ]
    },
    {
     "data": {
      "application/vnd.microsoft.datawrangler.viewer.v0+json": {
       "columns": [
        {
         "name": "index",
         "rawType": "int64",
         "type": "integer"
        },
        {
         "name": "timestamp",
         "rawType": "object",
         "type": "string"
        },
        {
         "name": "name",
         "rawType": "object",
         "type": "string"
        },
        {
         "name": "strategy",
         "rawType": "object",
         "type": "string"
        },
        {
         "name": "details",
         "rawType": "object",
         "type": "string"
        },
        {
         "name": "steps",
         "rawType": "int64",
         "type": "integer"
        },
        {
         "name": "seed_env",
         "rawType": "int64",
         "type": "integer"
        },
        {
         "name": "seed_agent",
         "rawType": "int64",
         "type": "integer"
        },
        {
         "name": "total_reward",
         "rawType": "int64",
         "type": "integer"
        }
       ],
       "ref": "0aa566fc-e018-4db9-bf7a-f6278decc4ac",
       "rows": [
        [
         "0",
         "2025-10-31T21:59:32.654593",
         "Kapil Bhardwaj",
         "epsilon_greedy",
         "fixed_eps=0.1",
         "2000",
         "42",
         "123",
         "1862"
        ]
       ],
       "shape": {
        "columns": 8,
        "rows": 1
       }
      },
      "text/html": [
       "<div>\n",
       "<style scoped>\n",
       "    .dataframe tbody tr th:only-of-type {\n",
       "        vertical-align: middle;\n",
       "    }\n",
       "\n",
       "    .dataframe tbody tr th {\n",
       "        vertical-align: top;\n",
       "    }\n",
       "\n",
       "    .dataframe thead th {\n",
       "        text-align: right;\n",
       "    }\n",
       "</style>\n",
       "<table border=\"1\" class=\"dataframe\">\n",
       "  <thead>\n",
       "    <tr style=\"text-align: right;\">\n",
       "      <th></th>\n",
       "      <th>timestamp</th>\n",
       "      <th>name</th>\n",
       "      <th>strategy</th>\n",
       "      <th>details</th>\n",
       "      <th>steps</th>\n",
       "      <th>seed_env</th>\n",
       "      <th>seed_agent</th>\n",
       "      <th>total_reward</th>\n",
       "    </tr>\n",
       "  </thead>\n",
       "  <tbody>\n",
       "    <tr>\n",
       "      <th>0</th>\n",
       "      <td>2025-10-31T21:59:32.654593</td>\n",
       "      <td>Kapil Bhardwaj</td>\n",
       "      <td>epsilon_greedy</td>\n",
       "      <td>fixed_eps=0.1</td>\n",
       "      <td>2000</td>\n",
       "      <td>42</td>\n",
       "      <td>123</td>\n",
       "      <td>1862</td>\n",
       "    </tr>\n",
       "  </tbody>\n",
       "</table>\n",
       "</div>"
      ],
      "text/plain": [
       "                    timestamp            name        strategy        details  \\\n",
       "0  2025-10-31T21:59:32.654593  Kapil Bhardwaj  epsilon_greedy  fixed_eps=0.1   \n",
       "\n",
       "   steps  seed_env  seed_agent  total_reward  \n",
       "0   2000        42         123          1862  "
      ]
     },
     "metadata": {},
     "output_type": "display_data"
    }
   ],
   "source": [
    "import pandas as pd\n",
    "from IPython.display import display\n",
    "\n",
    "lb_path = Path(\"submissions_round1.csv\")\n",
    "\n",
    "if lb_path.exists():\n",
    "    df = pd.read_csv(lb_path)\n",
    "    df_sorted = df.sort_values(\"total_reward\", ascending=False).reset_index(drop=True)\n",
    "    print(\"🏆 Round 1 Leaderboard (sorted by total reward):\")\n",
    "    display(df_sorted)\n",
    "else:\n",
    "    print(\"No submissions yet. Run the previous cell to submit your score.\")\n"
   ]
  },
  {
   "cell_type": "markdown",
   "id": "0f1fa31b",
   "metadata": {},
   "source": [
    "\n",
    "## 🧠 Step 6 — Reflect & Discuss (for your notes / debrief)\n",
    "\n",
    "1. **What strategy did you use and why?**  \n",
    "2. **How did ε influence your total reward?** Did you try multiple ε values?\n",
    "3. **Did your agent get “stuck” exploiting too soon?** How could you prevent that?\n",
    "4. **If you had more steps, what would you change (ε schedule, update rule, etc.)?**\n",
    "5. **Compare with others:** Did randomness or design matter more for the winners?\n",
    "6. **Transfer:** Where would this exploration dilemma appear in real systems (recsys, A/B testing, ads)?\n"
   ]
  },
  {
   "cell_type": "markdown",
   "id": "fe854a0c",
   "metadata": {},
   "source": [
    "\n",
    "## 📊 Experiment: Compare Different ε Values (Optional)\n",
    "\n",
    "Run multiple ε settings to *see* the exploration trade‑off.\n"
   ]
  },
  {
   "cell_type": "code",
   "execution_count": 21,
   "id": "6307c585",
   "metadata": {},
   "outputs": [
    {
     "data": {
      "image/png": "[encoded data removed]",
      "text/plain": [
       "<Figure size 800x400 with 1 Axes>"
      ]
     },
     "metadata": {},
     "output_type": "display_data"
    }
   ],
   "source": [
    "\n",
    "eps_list = [0.0, 0.05, 0.1, 0.2, 0.5]\n",
    "curves = {}\n",
    "for eps in eps_list:\n",
    "    r, _, _, _ = epsilon_greedy(TRUE_MEANS, steps=STEPS, epsilon=eps, seed=SEED_AGENT)\n",
    "    curves[eps] = np.cumsum(r)\n",
    "\n",
    "plt.figure()\n",
    "for eps, curve in curves.items():\n",
    "    plt.plot(curve, label=f\"ε={eps}\")\n",
    "plt.legend()\n",
    "plt.xlabel(\"Step\")\n",
    "plt.ylabel(\"Cumulative Reward\")\n",
    "plt.title(\"Round 1 — ε Comparison\")\n",
    "plt.show()\n"
   ]
  },
  {
   "cell_type": "markdown",
   "id": "6a7a4fc4",
   "metadata": {},
   "source": [
    "\n",
    "# 🔄 Round 2 — Non‑Stationary Casino (Competition)\n",
    "\n",
    "**Twist:** The slot machines drift over time. Fixed exploitation can fail; adaptive exploration helps.\n",
    "\n",
    "Two common adaptations:\n",
    "- Keep **ε** from decaying too low (retain exploration).\n",
    "- Use a **constant step size α** (exponential moving average) to weight recent rewards more.\n"
   ]
  },
  {
   "cell_type": "code",
   "execution_count": 22,
   "id": "a2d17104",
   "metadata": {},
   "outputs": [],
   "source": [
    "\n",
    "def nonstationary_means(n_arms=10, seed=2025):\n",
    "    # Initialize random means\n",
    "    rng = np.random.default_rng(seed)\n",
    "    return rng.random(n_arms)\n",
    "\n",
    "def step_drift(means, drift_scale=0.01, rng=None):\n",
    "    if rng is None:\n",
    "        rng = np.random.default_rng()\n",
    "    means = means + rng.normal(0, drift_scale, size=means.shape)\n",
    "    return np.clip(means, 0.0, 1.0)\n",
    "\n",
    "def epsilon_greedy_constant_alpha(steps=2000, n_arms=10, eps=0.1, alpha=0.1, seed_env=7, seed_agent=None, drift_scale=0.01):\n",
    "    # Non-stationary env with drifting means\n",
    "    rng_env = np.random.default_rng(seed_env)\n",
    "    rng_agent = np.random.default_rng(seed_agent)\n",
    "    means = rng_env.random(n_arms)\n",
    "    Q = np.zeros(n_arms)\n",
    "    rewards = np.zeros(steps, dtype=float)\n",
    "    actions = np.zeros(steps, dtype=int)\n",
    "    for t in range(steps):\n",
    "        # choose action\n",
    "        if rng_agent.random() < eps:\n",
    "            a = rng_agent.integers(0, n_arms)\n",
    "        else:\n",
    "            a = int(np.argmax(Q))\n",
    "        # reward from current means\n",
    "        r = 1.0 if rng_env.random() < means[a] else 0.0\n",
    "        # constant step-size update (EMA)\n",
    "        Q[a] = Q[a] + alpha * (r - Q[a])\n",
    "        rewards[t] = r\n",
    "        actions[t] = a\n",
    "        # drift environment\n",
    "        means = step_drift(means, drift_scale=drift_scale, rng=rng_env)\n",
    "    return rewards, actions, Q\n"
   ]
  },
  {
   "cell_type": "code",
   "execution_count": 23,
   "id": "6649927e",
   "metadata": {},
   "outputs": [
    {
     "name": "stdout",
     "output_type": "stream",
     "text": [
      "\n",
      "[Round 2]\n",
      "Player: Kapil Bhardwaj\n",
      "Strategy: epsilon_greedy + constant_alpha (eps=0.1, alpha=0.1)\n",
      "Steps: 3000\n",
      "Total Reward: 2557\n",
      "\n"
     ]
    },
    {
     "data": {
      "image/png": "[encoded data removed]",
      "text/plain": [
       "<Figure size 800x400 with 1 Axes>"
      ]
     },
     "metadata": {},
     "output_type": "display_data"
    }
   ],
   "source": [
    "\n",
    "# === YOUR SETTINGS (edit) ===\n",
    "NAME_R2 = \"Kapil Bhardwaj\"\n",
    "STEPS_R2 = 3000\n",
    "EPS_R2 = 0.1     # keep some exploration alive\n",
    "ALPHA_R2 = 0.1   # constant step size for non-stationarity\n",
    "SEED_ENV_R2 = 2025  # shared across class\n",
    "SEED_AGENT_R2 = 999\n",
    "DRIFT_SCALE = 0.01  # magnitude of mean drift per step\n",
    "\n",
    "# === RUN ===\n",
    "rewards_r2, actions_r2, Q_r2 = epsilon_greedy_constant_alpha(\n",
    "    steps=STEPS_R2, n_arms=10, eps=EPS_R2, alpha=ALPHA_R2,\n",
    "    seed_env=SEED_ENV_R2, seed_agent=SEED_AGENT_R2, drift_scale=DRIFT_SCALE\n",
    ")\n",
    "\n",
    "total_r2 = int(np.sum(rewards_r2))\n",
    "print(f\"\"\"\n",
    "[Round 2]\n",
    "Player: {NAME_R2}\n",
    "Strategy: epsilon_greedy + constant_alpha (eps={EPS_R2}, alpha={ALPHA_R2})\n",
    "Steps: {STEPS_R2}\n",
    "Total Reward: {total_r2}\n",
    "\"\"\")\n",
    "plot_cumulative(rewards_r2, title=\"Round 2 — Non‑Stationary Cumulative Reward\")\n"
   ]
  },
  {
   "cell_type": "code",
   "execution_count": 24,
   "id": "3d207012",
   "metadata": {},
   "outputs": [
    {
     "name": "stdout",
     "output_type": "stream",
     "text": [
      "Submitted to D:\\Conestoga college\\Sem 2\\04 Friday - CSCN8020 Reinforcement learning\\week 9\\MultiArmedBanditWorkshop---Week9\\submissions_round2.csv\n"
     ]
    },
    {
     "name": "stderr",
     "output_type": "stream",
     "text": [
      "C:\\Users\\acer\\AppData\\Local\\Temp\\ipykernel_2420\\2415904048.py:6: DeprecationWarning: datetime.datetime.utcnow() is deprecated and scheduled for removal in a future version. Use timezone-aware objects to represent datetimes in UTC: datetime.datetime.now(datetime.UTC).\n",
      "  \"timestamp\": datetime.utcnow().isoformat(),\n"
     ]
    }
   ],
   "source": [
    "\n",
    "import csv\n",
    "lb2_path = Path(\"submissions_round2.csv\")\n",
    "lb2_exists = lb2_path.exists()\n",
    "\n",
    "row2 = {\n",
    "    \"timestamp\": datetime.utcnow().isoformat(),\n",
    "    \"name\": NAME_R2,\n",
    "    \"strategy\": f\"eps={EPS_R2}, alpha={ALPHA_R2}\",\n",
    "    \"steps\": STEPS_R2,\n",
    "    \"seed_env\": SEED_ENV_R2,\n",
    "    \"seed_agent\": SEED_AGENT_R2,\n",
    "    \"drift_scale\": DRIFT_SCALE,\n",
    "    \"total_reward\": total_r2\n",
    "}\n",
    "\n",
    "fieldnames2 = [\"timestamp\",\"name\",\"strategy\",\"steps\",\"seed_env\",\"seed_agent\",\"drift_scale\",\"total_reward\"]\n",
    "\n",
    "with open(lb2_path, \"a\", newline=\"\") as f:\n",
    "    writer = csv.DictWriter(f, fieldnames=fieldnames2)\n",
    "    if not lb2_exists:\n",
    "        writer.writeheader()\n",
    "    writer.writerow(row2)\n",
    "\n",
    "print(\"Submitted to\", lb2_path.resolve())\n"
   ]
  },
  {
   "cell_type": "code",
   "execution_count": 25,
   "id": "3302a984",
   "metadata": {},
   "outputs": [
    {
     "name": "stdout",
     "output_type": "stream",
     "text": [
      "🏆 Round 1 Leaderboard (sorted by total reward):\n"
     ]
    },
    {
     "data": {
      "application/vnd.microsoft.datawrangler.viewer.v0+json": {
       "columns": [
        {
         "name": "index",
         "rawType": "int64",
         "type": "integer"
        },
        {
         "name": "timestamp",
         "rawType": "object",
         "type": "string"
        },
        {
         "name": "name",
         "rawType": "object",
         "type": "string"
        },
        {
         "name": "strategy",
         "rawType": "object",
         "type": "string"
        },
        {
         "name": "steps",
         "rawType": "int64",
         "type": "integer"
        },
        {
         "name": "seed_env",
         "rawType": "int64",
         "type": "integer"
        },
        {
         "name": "seed_agent",
         "rawType": "int64",
         "type": "integer"
        },
        {
         "name": "drift_scale",
         "rawType": "float64",
         "type": "float"
        },
        {
         "name": "total_reward",
         "rawType": "int64",
         "type": "integer"
        }
       ],
       "ref": "10c1627e-96a7-440f-9f1d-d1975dc7c1ba",
       "rows": [
        [
         "0",
         "2025-10-31T21:59:33.409119",
         "Kapil Bhardwaj",
         "eps=0.1, alpha=0.1",
         "3000",
         "2025",
         "999",
         "0.01",
         "2557"
        ]
       ],
       "shape": {
        "columns": 8,
        "rows": 1
       }
      },
      "text/html": [
       "<div>\n",
       "<style scoped>\n",
       "    .dataframe tbody tr th:only-of-type {\n",
       "        vertical-align: middle;\n",
       "    }\n",
       "\n",
       "    .dataframe tbody tr th {\n",
       "        vertical-align: top;\n",
       "    }\n",
       "\n",
       "    .dataframe thead th {\n",
       "        text-align: right;\n",
       "    }\n",
       "</style>\n",
       "<table border=\"1\" class=\"dataframe\">\n",
       "  <thead>\n",
       "    <tr style=\"text-align: right;\">\n",
       "      <th></th>\n",
       "      <th>timestamp</th>\n",
       "      <th>name</th>\n",
       "      <th>strategy</th>\n",
       "      <th>steps</th>\n",
       "      <th>seed_env</th>\n",
       "      <th>seed_agent</th>\n",
       "      <th>drift_scale</th>\n",
       "      <th>total_reward</th>\n",
       "    </tr>\n",
       "  </thead>\n",
       "  <tbody>\n",
       "    <tr>\n",
       "      <th>0</th>\n",
       "      <td>2025-10-31T21:59:33.409119</td>\n",
       "      <td>Kapil Bhardwaj</td>\n",
       "      <td>eps=0.1, alpha=0.1</td>\n",
       "      <td>3000</td>\n",
       "      <td>2025</td>\n",
       "      <td>999</td>\n",
       "      <td>0.01</td>\n",
       "      <td>2557</td>\n",
       "    </tr>\n",
       "  </tbody>\n",
       "</table>\n",
       "</div>"
      ],
      "text/plain": [
       "                    timestamp            name            strategy  steps  \\\n",
       "0  2025-10-31T21:59:33.409119  Kapil Bhardwaj  eps=0.1, alpha=0.1   3000   \n",
       "\n",
       "   seed_env  seed_agent  drift_scale  total_reward  \n",
       "0      2025         999         0.01          2557  "
      ]
     },
     "metadata": {},
     "output_type": "display_data"
    }
   ],
   "source": [
    "import pandas as pd\n",
    "from IPython.display import display\n",
    "\n",
    "lb_path = Path(\"submissions_round2.csv\")\n",
    "\n",
    "if lb_path.exists():\n",
    "    df = pd.read_csv(lb_path)\n",
    "    df_sorted = df.sort_values(\"total_reward\", ascending=False).reset_index(drop=True)\n",
    "    print(\"🏆 Round 1 Leaderboard (sorted by total reward):\")\n",
    "    display(df_sorted)\n",
    "else:\n",
    "    print(\"No submissions yet. Run the previous cell to submit your score.\")\n"
   ]
  },
  {
   "cell_type": "markdown",
   "id": "19679bb5",
   "metadata": {},
   "source": [
    "## Comparing Stationary vs Non-Stationary\n",
    "\n",
    "In the first round, the agent achieved a total reward of 1862 using a stationary environment with fixed probabilities. In the second round, after introducing a small drift, a learning rate, and more training steps, the total reward increased to 2557. This shows that adapting the strategy and allowing more learning time can significantly improve performance, even in a slightly changing environment.\n",
    "\n",
    "## Role of Exploration and Learning Rate\n",
    "\n",
    "The second submission included both a fixed ε (exploration rate) and a learning rate (α) to update action-value estimates more effectively. This helped the agent respond better to changing rewards, highlighting the importance of continuous learning and small adjustments in dynamic settings\n",
    "\n",
    "## Importance of Experiment Tracking\n",
    "\n",
    "By generating separate CSV files for each round, we can easily compare performance across experiments. This makes it easier to analyze the effect of different seeds, step counts, and strategy tweaks, and provides a clear view of how changes to the algorithm influence outcomes."
   ]
  },
  {
   "cell_type": "markdown",
   "id": "8da7f626",
   "metadata": {},
   "source": [
    "## Exploration’s Hidden Value\n",
    "\n",
    "The initial fixed exploration rate ($\\epsilon$-greedy) delivered solid early results but was insufficient for prolonged success. Its failing in the second, shifting environment was a direct consequence of insufficient re-exploration as the world drifted. This outcome underscores a critical finding for dynamic systems: long-term success hinges on a commitment to continuous exploration. This necessitates a strategy, such as using a decaying or adaptive exploration rate, to constantly refresh knowledge and guard against obsolescence."
   ]
  },
  {
   "cell_type": "markdown",
   "id": "3c314330",
   "metadata": {},
   "source": [
    "## Real-World Analogy\n",
    "\n",
    "This pattern directly reflects fundamental strategic challenges. When a system or market is stable, repeating proven successful actions generates predictable profits and consistent output. Conversely, when the environment undergoes change, relying on the old playbook inevitably leads to underperformance unless the approach is continually updated through experimentation and strategic iteration."
   ]
  },
  {
   "cell_type": "markdown",
   "id": "43ed49dd",
   "metadata": {},
   "source": [
    "## Integrating Results and Code Extension\n",
    "\n",
    "At the end of the notebook, I added an additional code block that automatically runs both rounds and generates two CSV files, one for the stationary case and one for the non-stationary case. These files were then used in our analysis to compare performance between the two environments. This made it easier to track, store, and visualize our results in a consistent and reproducible way"
   ]
  }
 ],
 "metadata": {
  "kernelspec": {
   "display_name": "Python 3",
   "language": "python",
   "name": "python3"
  },
  "language_info": {
   "codemirror_mode": {
    "name": "ipython",
    "version": 3
   },
   "file_extension": ".py",
   "mimetype": "text/x-python",
   "name": "python",
   "nbconvert_exporter": "python",
   "pygments_lexer": "ipython3",
   "version": "3.12.6"
  }
 },
 "nbformat": 4,
 "nbformat_minor": 5
}
